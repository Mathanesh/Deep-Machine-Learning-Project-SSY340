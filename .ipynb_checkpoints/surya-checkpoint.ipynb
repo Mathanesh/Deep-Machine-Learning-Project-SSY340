{
 "cells": [
  {
   "cell_type": "markdown",
   "id": "1a4e6799-e2ca-4e0d-a6dd-e12635d2e3bf",
   "metadata": {},
   "source": [
    "---\n",
    "### Project - Road Image Segmentation for AD/ADAS related applications\n",
    "---"
   ]
  },
  {
   "cell_type": "markdown",
   "id": "cc825ff4-509f-4ff5-986e-b977db313f37",
   "metadata": {},
   "source": [
    "### Check Python version"
   ]
  },
  {
   "cell_type": "code",
   "execution_count": 2,
   "id": "4d3ecf55-78ab-4b67-ab02-64ab20b949df",
   "metadata": {},
   "outputs": [],
   "source": [
    "from platform import python_version_tuple\n",
    "\n",
    "assert (\n",
    "    python_version_tuple()[:2] == (\"3\", \"11\")\n",
    "), \"You are not running Python 3.11. Make sure to run Python through the course Conda environment.\""
   ]
  },
  {
   "cell_type": "markdown",
   "id": "68293375-88da-40e9-a011-638c384b173a",
   "metadata": {},
   "source": [
    "### Start"
   ]
  },
  {
   "cell_type": "code",
   "execution_count": null,
   "id": "d3ab90a3-22a6-4d52-861b-6d88eadebb75",
   "metadata": {},
   "outputs": [],
   "source": [
    "import os\n",
    "import cv2\n",
    "import numpy as np\n",
    "from tqdm import tqdm\n",
    "import matplotlib.pyplot as plt"
   ]
  },
  {
   "cell_type": "code",
   "execution_count": null,
   "id": "9e621287-0aa3-4ce3-b29d-a50accce956d",
   "metadata": {},
   "outputs": [],
   "source": [
    "targetWidth = 1024\n",
    "targetHeight = 512"
   ]
  },
  {
   "cell_type": "code",
   "execution_count": null,
   "id": "dda28ac2-3a24-49ff-9c29-1406d4e14f58",
   "metadata": {},
   "outputs": [],
   "source": [
    "from collections import namedtuple\n",
    "\n",
    "# Based on https://github.com/mcordts/cityscapesScripts\n",
    "CityscapesClass = namedtuple('CityscapesClass', ['name', 'id', 'train_id', 'category', 'category_id',\n",
    "                                                 'has_instances', 'ignore_in_eval', 'color'])\n",
    "classes = [\n",
    "    CityscapesClass('unlabeled',            0, 19, 'void', 0, False, True, (0, 0, 0)),\n",
    "    CityscapesClass('ego vehicle',          1, 19, 'void', 0, False, True, (0, 0, 0)),\n",
    "    CityscapesClass('rectification border', 2, 19, 'void', 0, False, True, (0, 0, 0)),\n",
    "    CityscapesClass('out of roi',           3, 19, 'void', 0, False, True, (0, 0, 0)),\n",
    "    CityscapesClass('static',               4, 19, 'void', 0, False, True, (0, 0, 0)),\n",
    "    CityscapesClass('dynamic',              5, 19, 'void', 0, False, True, (111, 74, 0)),\n",
    "    CityscapesClass('ground',               6, 19, 'void', 0, False, True, (81, 0, 81)),\n",
    "    CityscapesClass('road',                 7, 0, 'flat', 1, False, False, (128, 64, 128)),\n",
    "    CityscapesClass('sidewalk',             8, 1, 'flat', 1, False, False, (244, 35, 232)),\n",
    "    CityscapesClass('parking',              9, 19, 'flat', 1, False, True, (250, 170, 160)),\n",
    "    CityscapesClass('rail track',           10, 19, 'flat', 1, False, True, (230, 150, 140)),\n",
    "    CityscapesClass('building',             11, 2, 'construction', 2, False, False, (70, 70, 70)),\n",
    "    CityscapesClass('wall',                 12, 3, 'construction', 2, False, False, (102, 102, 156)),\n",
    "    CityscapesClass('fence',                13, 4, 'construction', 2, False, False, (190, 153, 153)),\n",
    "    CityscapesClass('guard rail',           14, 19, 'construction', 2, False, True, (180, 165, 180)),\n",
    "    CityscapesClass('bridge',               15, 19, 'construction', 2, False, True, (150, 100, 100)),\n",
    "    CityscapesClass('tunnel',               16, 19, 'construction', 2, False, True, (150, 120, 90)),\n",
    "    CityscapesClass('pole',                 17, 5, 'object', 3, False, False, (153, 153, 153)),\n",
    "    CityscapesClass('polegroup',            18, 19, 'object', 3, False, True, (153, 153, 153)),\n",
    "    CityscapesClass('traffic light',        19, 6, 'object', 3, False, False, (250, 170, 30)),\n",
    "    CityscapesClass('traffic sign',         20, 7, 'object', 3, False, False, (220, 220, 0)),\n",
    "    CityscapesClass('vegetation',           21, 8, 'nature', 4, False, False, (107, 142, 35)),\n",
    "    CityscapesClass('terrain',              22, 9, 'nature', 4, False, False, (152, 251, 152)),\n",
    "    CityscapesClass('sky',                  23, 10, 'sky', 5, False, False, (70, 130, 180)),\n",
    "    CityscapesClass('person',               24, 11, 'human', 6, True, False, (220, 20, 60)),\n",
    "    CityscapesClass('rider',                25, 12, 'human', 6, True, False, (255, 0, 0)),\n",
    "    CityscapesClass('car',                  26, 13, 'vehicle', 7, True, False, (0, 0, 142)),\n",
    "    CityscapesClass('truck',                27, 14, 'vehicle', 7, True, False, (0, 0, 70)),\n",
    "    CityscapesClass('bus',                  28, 15, 'vehicle', 7, True, False, (0, 60, 100)),\n",
    "    CityscapesClass('caravan',              29, 19, 'vehicle', 7, True, True, (0, 0, 90)),\n",
    "    CityscapesClass('trailer',              30, 19, 'vehicle', 7, True, True, (0, 0, 110)),\n",
    "    CityscapesClass('train',                31, 16, 'vehicle', 7, True, False, (0, 80, 100)),\n",
    "    CityscapesClass('motorcycle',           32, 17, 'vehicle', 7, True, False, (0, 0, 230)),\n",
    "    CityscapesClass('bicycle',              33, 18, 'vehicle', 7, True, False, (119, 11, 32)),\n",
    "    CityscapesClass('license plate',        -1, 19, 'vehicle', 7, False, True, (0, 0, 142)),\n",
    "]\n",
    "\n",
    "train_id_to_color = [c.color for c in classes if (c.train_id != -1 and c.train_id != 19)]\n",
    "train_id_to_color.append([0, 0, 0])\n",
    "train_id_to_color = np.array(train_id_to_color)\n",
    "id_to_train_id = np.array([c.train_id for c in classes])"
   ]
  },
  {
   "cell_type": "code",
   "execution_count": null,
   "id": "4dadc97d-1a98-4d45-bb78-52534f90201b",
   "metadata": {},
   "outputs": [],
   "source": [
    "def createDir(dirPath):\n",
    "    if(not os.path.isdir(dirPath)):\n",
    "        os.mkdir(dirPath)"
   ]
  },
  {
   "cell_type": "code",
   "execution_count": null,
   "id": "1359ffc7-848d-4bf3-aebc-67f5a68b43d3",
   "metadata": {},
   "outputs": [],
   "source": [
    "def createResizedDataSet(subFolder : str, dirs : str):\n",
    "    imgCount = 0\n",
    "    \n",
    "    # create output directories for RGB images and labels\n",
    "    outputRgbSubFolder = os.path.join(outputRgbDir, *[subFolder])\n",
    "    createDir(outputRgbSubFolder)\n",
    "    outputLabelSubFolder = os.path.join(outputLabelDir, *[subFolder])\n",
    "    createDir(outputLabelSubFolder)\n",
    "    \n",
    "    # iterate through list of input directories\n",
    "    for folderIndex, folder in enumerate(dirs):\n",
    "        print(f'{folderIndex}. Reading {folder} data ...')\n",
    "        \n",
    "        # get files in the subdirectory\n",
    "        rgbImgFolderPath = os.path.join(inputRgbDir, *[subFolder, folder])\n",
    "        inputFiles = sorted(os.listdir(rgbImgFolderPath))\n",
    "        \n",
    "        for file in tqdm(inputFiles, total=len(inputFiles), position=0, leave=True):\n",
    "            fileName = file.replace('_leftImg8bit.png','')\n",
    "            outputFileName = f\"{fileName}.png\"\n",
    "            \n",
    "            # read input image, resize and write\n",
    "            rgbImgPath = os.path.join(rgbImgFolderPath, *[file])\n",
    "            rgbImg = cv2.imread(rgbImgPath)\n",
    "            resizedRgbImg = cv2.resize(rgbImg, (targetWidth, targetHeight),\n",
    "                     interpolation=cv2.INTER_NEAREST)\n",
    "            cv2.imwrite(os.path.join(outputRgbDir, *[subFolder, outputFileName]), resizedRgbImg)\n",
    "\n",
    "            # read label image, resize, encode to train id and write\n",
    "            labelImgPath = os.path.join(inputLabelDir, *[subFolder, folder, f\"{fileName}_gtFine_labelIds.png\"])\n",
    "            labelImg = cv2.imread(labelImgPath, -1)\n",
    "            resizedLabelImg = cv2.resize(labelImg, (targetWidth, targetHeight),\n",
    "                     interpolation=cv2.INTER_NEAREST)\n",
    "            encodedResizedLabelImg = id_to_train_id[resizedLabelImg]\n",
    "            cv2.imwrite(os.path.join(outputLabelDir, *[subFolder, outputFileName]), encodedResizedLabelImg)\n",
    "\n",
    "            imgCount = imgCount + 1\n",
    "\n",
    "    print(f\"Resized {imgCount} images in {len(dirs)} folders\")"
   ]
  },
  {
   "cell_type": "code",
   "execution_count": null,
   "id": "91d87ba1-0209-480f-84f6-60ceceb93d0f",
   "metadata": {},
   "outputs": [],
   "source": [
    "def createResizedDemoVideoDataset(inputRootDir, dirs, outputRootDir):\n",
    "    imgCount = 0\n",
    "    \n",
    "    # iterate through list of input directories    \n",
    "    for folderIndex, folder in enumerate(dirs):\n",
    "        print(f'{folderIndex}. Reading {folder} data ...')\n",
    "        \n",
    "        # get files in the subdirectory        \n",
    "        rgbImgFolderPath = os.path.join(inputRootDir, *[folder])        \n",
    "        inputFiles = sorted(os.listdir(rgbImgFolderPath))\n",
    "        \n",
    "        # create output directory\n",
    "        outputRgbFolder = os.path.join(outputRootDir, *[folder])\n",
    "        createDir(outputRgbFolder)\n",
    "    \n",
    "        for file in tqdm(inputFiles, total=len(inputFiles), position=0, leave=True):\n",
    "            fileName = file.replace('_leftImg8bit.png','')\n",
    "            outputFileName = f\"{fileName}.png\"\n",
    "            \n",
    "            # read input image, resize and write\n",
    "            rgbImgPath = os.path.join(rgbImgFolderPath, *[file])\n",
    "            rgbImg = cv2.imread(rgbImgPath)\n",
    "            resizedRgbImg = cv2.resize(rgbImg, (targetWidth, targetHeight),\n",
    "                     interpolation=cv2.INTER_NEAREST)\n",
    "            cv2.imwrite(os.path.join(outputRgbFolder, *[outputFileName]), resizedRgbImg)\n",
    "            \n",
    "            imgCount = imgCount + 1\n",
    "            \n",
    "    print(f\"Resized {imgCount} images in {len(dirs)} folders\")"
   ]
  },
  {
   "cell_type": "code",
   "execution_count": null,
   "id": "1d90e062-4aec-4061-b574-eebd8ab89257",
   "metadata": {},
   "outputs": [],
   "source": [
    "train_dirs = sorted([\"jena\", \"zurich\", \"weimar\", \"ulm\", \"tubingen\", \"stuttgart\",\n",
    "              \"strasbourg\", \"monchengladbach\", \"krefeld\", \"hanover\",\n",
    "              \"hamburg\", \"erfurt\", \"dusseldorf\", \"darmstadt\", \"cologne\",\n",
    "              \"bremen\", \"bochum\", \"aachen\"])\n",
    "val_dirs = sorted([\"frankfurt\", \"munster\", \"lindau\"])\n",
    "test_dirs = sorted([\"berlin\", \"bielefeld\", \"bonn\", \"leverkusen\", \"mainz\", \"munich\"])"
   ]
  },
  {
   "cell_type": "code",
   "execution_count": null,
   "id": "e664530e-0d4d-485f-8448-751eb2f8ee97",
   "metadata": {},
   "outputs": [],
   "source": [
    "inputRgbDir = '../input/cityscapes/Cityspaces/images'\n",
    "inputLabelDir = '../input/cityscapes/Cityspaces/gtFine'\n",
    "outputRgbDir = 'leftImg8bit'\n",
    "outputLabelDir = 'gtFine'"
   ]
  },
  {
   "cell_type": "code",
   "execution_count": null,
   "id": "e7de00ec-077a-4c7a-b2cd-7691483364d6",
   "metadata": {},
   "outputs": [],
   "source": [
    "createDir(outputRgbDir)\n",
    "createDir(outputLabelDir)"
   ]
  },
  {
   "cell_type": "code",
   "execution_count": null,
   "id": "6f78b48b-af9c-4a42-937c-522ce5b58db5",
   "metadata": {},
   "outputs": [],
   "source": [
    "createResizedDataSet(subFolder='train', dirs=train_dirs)"
   ]
  },
  {
   "cell_type": "code",
   "execution_count": null,
   "id": "1bf71dda-d0a1-4e65-9055-4c314c6e9a5d",
   "metadata": {},
   "outputs": [],
   "source": [
    "createResizedDataSet(subFolder='val', dirs=val_dirs)"
   ]
  },
  {
   "cell_type": "code",
   "execution_count": null,
   "id": "b451d96a-b787-44fd-a427-07be476f4acf",
   "metadata": {},
   "outputs": [],
   "source": [
    "inputDemoVideoDir = '../input/cityscapes-demovideo/leftImg8bit/demoVideo'\n",
    "outputDemoVideoDir = 'demoVideo'\n",
    "demo_video_dirs = sorted(['stuttgart_00'])  # , 'stuttgart_01/', 'stuttgart_02/'"
   ]
  },
  {
   "cell_type": "code",
   "execution_count": null,
   "id": "43a9d3a1-8b8f-48fa-8859-0dfffe8d8c26",
   "metadata": {},
   "outputs": [],
   "source": [
    "createDir(outputDemoVideoDir)"
   ]
  },
  {
   "cell_type": "code",
   "execution_count": null,
   "id": "9b4e522d-a17d-409d-8a0e-3a6943de9361",
   "metadata": {},
   "outputs": [],
   "source": [
    "createResizedDemoVideoDataset(inputRootDir = inputDemoVideoDir, dirs = demo_video_dirs, \n",
    "                              outputRootDir = outputDemoVideoDir)"
   ]
  }
 ],
 "metadata": {
  "kernelspec": {
   "display_name": "Python 3 (ipykernel)",
   "language": "python",
   "name": "python3"
  },
  "language_info": {
   "codemirror_mode": {
    "name": "ipython",
    "version": 3
   },
   "file_extension": ".py",
   "mimetype": "text/x-python",
   "name": "python",
   "nbconvert_exporter": "python",
   "pygments_lexer": "ipython3",
   "version": "3.11.9"
  }
 },
 "nbformat": 4,
 "nbformat_minor": 5
}
